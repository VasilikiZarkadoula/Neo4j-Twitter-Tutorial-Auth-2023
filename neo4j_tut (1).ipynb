{
 "cells": [
  {
   "cell_type": "code",
   "execution_count": 1,
   "id": "9c498d1a",
   "metadata": {},
   "outputs": [],
   "source": [
    "#!pip install py2neo"
   ]
  },
  {
   "cell_type": "code",
   "execution_count": 2,
   "id": "a5455444",
   "metadata": {},
   "outputs": [],
   "source": [
    "import pandas as pd\n",
    "from py2neo import Graph, Node\n",
    "import time"
   ]
  },
  {
   "cell_type": "code",
   "execution_count": 3,
   "id": "3fad544f",
   "metadata": {},
   "outputs": [],
   "source": [
    "start_time = time.time()"
   ]
  },
  {
   "cell_type": "code",
   "execution_count": 4,
   "id": "ff9a13fb",
   "metadata": {},
   "outputs": [],
   "source": [
    "graph = Graph(\"bolt://localhost:7687\", auth=(\"neo4j\", \"twitterdb\"))"
   ]
  },
  {
   "cell_type": "code",
   "execution_count": 5,
   "id": "3c22ee83",
   "metadata": {},
   "outputs": [],
   "source": [
    "df = pd.read_csv(\"WDM1.csv\", low_memory=False)\n",
    "df = df.iloc[:1300,:]"
   ]
  },
  {
   "cell_type": "code",
   "execution_count": 6,
   "id": "d6b95858",
   "metadata": {},
   "outputs": [
    {
     "data": {
      "text/plain": [
       "1300"
      ]
     },
     "execution_count": 6,
     "metadata": {},
     "output_type": "execute_result"
    }
   ],
   "source": [
    "df.shape[0]"
   ]
  },
  {
   "cell_type": "code",
   "execution_count": 7,
   "id": "d33eb3f8",
   "metadata": {},
   "outputs": [],
   "source": [
    "# Create sets to store unique tags, urls and tweets\n",
    "unique_tags = set()\n",
    "unique_urls = set()\n",
    "unique_tweets = set()\n",
    "unique_users = set()\n",
    "\n",
    "# Iterate over the rows in the DataFrame and add tags, urls, and tweets to the sets\n",
    "for index, row in df.iterrows():\n",
    "\n",
    "    # Get the tags from the row\n",
    "    tweet_tags = [row.get(f\"includes.tweets.0.entities.hashtags.{i}.tag\") for i in range(0, 25)]\n",
    "\n",
    "    # Get the urls from the row\n",
    "    tweet_urls = [row.get(f\"includes.tweets.0.entities.urls.{i}.expanded_url\") for i in range(0, 3)]\n",
    "\n",
    "    # Get the tweets from the row\n",
    "    tweet = dict()\n",
    "    tweet[\"id\"] = str(row.get(f\"includes.tweets.0.id\"))\n",
    "    tweet[\"created_at\"] = row.get(f\"includes.tweets.0.created_at\")\n",
    "    tweet[\"reply_count\"] = row.get(f\"includes.tweets.0.public_metrics.reply_count\")\n",
    "    tweet[\"type\"] = str(row.get(f\"includes.tweets.0.referenced_tweets.0.type\"))\n",
    "    tweet[\"author_id\"] = str(row.get(f\"includes.tweets.0.author_id\"))\n",
    "    \n",
    "\n",
    "    # Get the users from the row\n",
    "    user = dict()\n",
    "    user[\"id\"] = str(row.get(f\"includes.users.0.id\"))\n",
    "    user[\"username\"] = str(row.get(f\"includes.users.0.username\"))\n",
    "    user[\"followers_count\"] = row.get(f\"includes.users.0.public_metrics.followers_count\")\n",
    "\n",
    "    # Remove any None or NaN values from the list of tags and urls\n",
    "    tweet_tags = [str(tag).lower() for tag in tweet_tags if isinstance(tag, str)]\n",
    "    tweet_urls = [str(url) for url in tweet_urls if isinstance(url, str)]\n",
    "    \n",
    "    # Add the lists to the sets\n",
    "    unique_tags.update(tweet_tags)\n",
    "    unique_urls.update(tweet_urls)\n",
    "\n",
    "    # Convert the dictionary to a frozenset before adding to the set to make it hashable\n",
    "    unique_tweets.add(frozenset(tweet.items()))\n",
    "    unique_users.add(frozenset(user.items()))"
   ]
  },
  {
   "cell_type": "code",
   "execution_count": 8,
   "id": "b55828d8",
   "metadata": {},
   "outputs": [],
   "source": [
    "# Create a node for each tag\n",
    "for tag in unique_tags:\n",
    "    node = Node(\"Hashtag\", tag=tag)\n",
    "    graph.create(node)"
   ]
  },
  {
   "cell_type": "code",
   "execution_count": 9,
   "id": "f6137a51",
   "metadata": {},
   "outputs": [],
   "source": [
    "# Create a node for each url\n",
    "for url in unique_urls:\n",
    "    node = Node(\"Link\", url=url)\n",
    "    graph.create(node)"
   ]
  },
  {
   "cell_type": "code",
   "execution_count": 10,
   "id": "4abf58a0",
   "metadata": {},
   "outputs": [],
   "source": [
    "# Create a node for each tweet\n",
    "for tweet in unique_tweets:\n",
    "    # Convert the hashable tuple back to a dictionary\n",
    "    tweet_dict = dict(tweet)\n",
    "    node = Node(\"Tweet\", id=tweet_dict[\"id\"], created_at=tweet_dict[\"created_at\"], reply_count=tweet_dict[\"reply_count\"]\n",
    "                , type=tweet_dict[\"type\"], author_id=str(tweet_dict[\"author_id\"]))\n",
    "    graph.create(node)"
   ]
  },
  {
   "cell_type": "code",
   "execution_count": 11,
   "id": "533d5e44",
   "metadata": {},
   "outputs": [],
   "source": [
    "# Create a node for each user\n",
    "constraint_created = False\n",
    "for user in unique_users:\n",
    "    # Convert the hashable tuple back to a dictionary\n",
    "    user_dict = dict(user)\n",
    "    node = Node(\"User\", id=str(user_dict[\"id\"]), username=user_dict[\"username\"], followers_count=user_dict[\"followers_count\"])\n",
    "    if not constraint_created:\n",
    "        graph.run(\"CREATE CONSTRAINT constraint_user_id FOR (u:User) REQUIRE (u.id) IS UNIQUE\")\n",
    "        constraint_created = True\n",
    "    graph.merge(node, \"User\", \"id\")"
   ]
  },
  {
   "cell_type": "code",
   "execution_count": 12,
   "id": "5d85ef01",
   "metadata": {},
   "outputs": [
    {
     "name": "stdout",
     "output_type": "stream",
     "text": [
      "tweet begin\n"
     ]
    },
    {
     "data": {
      "text/html": [
       "<table><tr><th>count(r)</th></tr><tr><td style=\"text-align:right\">311</td></tr></table>"
      ],
      "text/plain": [
       " count(r) \n",
       "----------\n",
       "      311 "
      ]
     },
     "execution_count": 12,
     "metadata": {},
     "output_type": "execute_result"
    }
   ],
   "source": [
    "print(\"tweet begin\")\n",
    "graph.run(\"MATCH (u: User),(t: Tweet) WHERE u.id = t.author_id and t.type<> 'retweeted' and t.type<> 'quoted' and t.type<> 'replied_to' MERGE (u)-[r:TWEETED]->(t) return count(r)\")"
   ]
  },
  {
   "cell_type": "code",
   "execution_count": 13,
   "id": "6ba7a5f7",
   "metadata": {},
   "outputs": [
    {
     "name": "stdout",
     "output_type": "stream",
     "text": [
      "retweet begin\n"
     ]
    },
    {
     "data": {
      "text/html": [
       "<table><tr><th>count(r)</th></tr><tr><td style=\"text-align:right\">941</td></tr></table>"
      ],
      "text/plain": [
       " count(r) \n",
       "----------\n",
       "      941 "
      ]
     },
     "execution_count": 13,
     "metadata": {},
     "output_type": "execute_result"
    }
   ],
   "source": [
    "print(\"retweet begin\")\n",
    "graph.run(\"MATCH (u: User),(t: Tweet) WHERE u.id = t.author_id and t.type = 'retweeted' MERGE (u)-[r:RETWEETED]->(t) return count(r)\")"
   ]
  },
  {
   "cell_type": "code",
   "execution_count": 14,
   "id": "a3a0c938",
   "metadata": {},
   "outputs": [
    {
     "name": "stdout",
     "output_type": "stream",
     "text": [
      "quote begin\n"
     ]
    },
    {
     "data": {
      "text/html": [
       "<table><tr><th>count(r)</th></tr><tr><td style=\"text-align:right\">12</td></tr></table>"
      ],
      "text/plain": [
       " count(r) \n",
       "----------\n",
       "       12 "
      ]
     },
     "execution_count": 14,
     "metadata": {},
     "output_type": "execute_result"
    }
   ],
   "source": [
    "print(\"quote begin\")\n",
    "graph.run(\"MATCH (u: User),(t: Tweet) WHERE u.id = t.author_id and t.type = 'quoted' MERGE (u)-[r:QUOTED]->(t) return count(r)\")"
   ]
  },
  {
   "cell_type": "code",
   "execution_count": 15,
   "id": "4190cb93",
   "metadata": {},
   "outputs": [
    {
     "name": "stdout",
     "output_type": "stream",
     "text": [
      "reply begin\n"
     ]
    },
    {
     "data": {
      "text/html": [
       "<table><tr><th>count(r)</th></tr><tr><td style=\"text-align:right\">36</td></tr></table>"
      ],
      "text/plain": [
       " count(r) \n",
       "----------\n",
       "       36 "
      ]
     },
     "execution_count": 15,
     "metadata": {},
     "output_type": "execute_result"
    }
   ],
   "source": [
    "print(\"reply begin\")\n",
    "graph.run(\"MATCH (u: User),(t: Tweet) WHERE u.id = t.author_id and t.type = 'replied_to' MERGE (u)-[r:REPLIED_TO]->(t) return count(r)\")"
   ]
  },
  {
   "cell_type": "code",
   "execution_count": 19,
   "id": "5f31569e",
   "metadata": {},
   "outputs": [],
   "source": [
    "\n",
    "# Iterate over the rows in the DataFrame and add tags, urls, and tweets to the sets\n",
    "for index, row in df.iterrows():\n",
    "\n",
    "    # Get the tweets from the row\n",
    "    tweet = {}\n",
    "    tweet[\"id\"] = str(row.get(f\"includes.tweets.0.id\"))\n",
    "    tweet[\"author_id\"] = str(row.get(f\"includes.tweets.0.author_id\"))\n",
    "    #print(index)\n",
    "    if all(tweet.values()) and not all(pd.isna(v) and  pd.isnull(v) and v != \"nan\" for v in tweet.values()):  # only add non-empty and non-nan tweets\n",
    "        for j in range(0,25):\n",
    "            tag = str(row.get(f\"includes.tweets.0.entities.hashtags.{j}.tag\"))\n",
    "            if(not pd.isna(tag) and not pd.isnull(tag) and tag != \"nan\"):\n",
    "                tag = tag.lower()\n",
    "                tagRelTweet = graph.run(\"MATCH (t: Tweet),(h: Hashtag) WHERE h.tag = $tag1 and t.id = $tweetId MERGE (t)-[r:HAS_HASHTAG]->(h) return count(r)\",tag1 = tag, tweetId = tweet[\"id\"]).data()\n",
    "                tagRelUser = graph.run(\"MATCH (u: User),(h: Hashtag) WHERE h.tag = $tag1 and u.id = $userId MERGE (u)-[r:USED_HASHTAG]->(h) return count(r)\",tag1 = tag, userId = tweet[\"author_id\"]).data()\n",
    "\n",
    "        for j in range(0,3):\n",
    "            url = str(row.get(f\"includes.tweets.0.entities.urls.{j}.expanded_url\"))\n",
    "            if(not pd.isna(url) and not pd.isnull(url) and url != \"nan\"):\n",
    "                urlRelTweet = graph.run(\"MATCH (t: Tweet),(l: Link) WHERE l.url = $url1 and t.id = $tweetId MERGE (t)-[r:HAS_URL]->(l) return count(r)\",url1 = url, tweetId = tweet[\"id\"]).data()\n",
    "                urlReluser = graph.run(\"MATCH (u: User),(l: Link) WHERE l.url = $url1 and u.id = $userId MERGE (u)-[r:USED_URL]->(l) return count(r)\",url1 = url, userId = tweet[\"author_id\"]).data()\n",
    "\n",
    "#    # Get the users from the row\n",
    "    user = {}\n",
    "    user[\"id\"] = str(row.get(f\"includes.users.{0}.id\"))\n",
    "\n",
    "    if all(user.values()) and not all(pd.isna(v) and  pd.isnull(v) and v != \"nan\" for v in user.values()):  # only add non-empty and non-nan tweets\n",
    "        \n",
    "        for j in range(0,6):\n",
    "            mentions_username = str(row.get(f\"data.entities.mentions.{j}.username\"))\n",
    "            mentions_id = str(row[f\"data.entities.mentions.{j}.id\"])\n",
    "            if(not pd.isna(mentions_id) and not pd.isnull(mentions_id) and mentions_id != \"nan\"):\n",
    "                userExists = graph.run(\"MATCH (u:User {id: $id1}) return count(u.id)\",id1 = mentions_id).data()\n",
    "                if(userExists[0][\"count(u.id)\"] == 0):\n",
    "                    node = Node(\"User\", id=str(mentions_id), username=str(mentions_username))\n",
    "                    graph.merge(node, \"User\", \"id\")               \n",
    "                mentionRel = graph.run(\"MATCH (u1:User),(u2:User) WHERE u1.id = $user1Id and u2.id = $user2Id MERGE (u1)-[r:MENTIONS]->(u2) return count(r)\",user1Id = user[\"id\"], user2Id = mentions_id).data()\n"
   ]
  },
  {
   "cell_type": "code",
   "execution_count": 17,
   "id": "8c10154a",
   "metadata": {},
   "outputs": [
    {
     "name": "stdout",
     "output_type": "stream",
     "text": [
      "Elapsed time: 30.860256910324097 seconds\n"
     ]
    }
   ],
   "source": [
    "end_time = time.time()  # set the end time\n",
    "elapsed_time = end_time - start_time  # calculate the elapsed time\n",
    "print(f\"Elapsed time: {elapsed_time} seconds\")"
   ]
  }
 ],
 "metadata": {
  "kernelspec": {
   "display_name": "Python 3 (ipykernel)",
   "language": "python",
   "name": "python3"
  },
  "language_info": {
   "codemirror_mode": {
    "name": "ipython",
    "version": 3
   },
   "file_extension": ".py",
   "mimetype": "text/x-python",
   "name": "python",
   "nbconvert_exporter": "python",
   "pygments_lexer": "ipython3",
   "version": "3.9.13"
  }
 },
 "nbformat": 4,
 "nbformat_minor": 5
}
