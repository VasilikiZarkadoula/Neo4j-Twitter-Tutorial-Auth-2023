{
 "cells": [
  {
   "cell_type": "code",
   "execution_count": 1,
   "id": "9c498d1a",
   "metadata": {},
   "outputs": [],
   "source": [
    "#!pip install py2neo"
   ]
  },
  {
   "cell_type": "code",
   "execution_count": 2,
   "id": "a5455444",
   "metadata": {},
   "outputs": [],
   "source": [
    "import pandas as pd\n",
    "from py2neo import Graph, Node\n",
    "import time\n",
    "import bson"
   ]
  },
  {
   "cell_type": "code",
   "execution_count": 3,
   "id": "91ca906b",
   "metadata": {},
   "outputs": [],
   "source": [
    "start_time = time.time()"
   ]
  },
  {
   "cell_type": "code",
   "execution_count": 4,
   "id": "9f8513fb",
   "metadata": {},
   "outputs": [],
   "source": [
    "bson_file = open('WDM1.bson', 'rb')\n",
    "data = bson.decode_all(bson_file.read())\n",
    "bson_file.close()"
   ]
  },
  {
   "cell_type": "code",
   "execution_count": 6,
   "id": "ff9a13fb",
   "metadata": {},
   "outputs": [],
   "source": [
    "graph = Graph(\"bolt://localhost:7687\", auth=(\"neo4j\", \"twitterdb\"))"
   ]
  },
  {
   "cell_type": "code",
   "execution_count": 7,
   "id": "d33eb3f8",
   "metadata": {},
   "outputs": [],
   "source": [
    "# Create sets to store unique tags, urls and tweets\n",
    "unique_tags = set()\n",
    "unique_urls = set()\n",
    "unique_tweets = set()\n",
    "unique_users = set()\n",
    "\n",
    "# Iterate over the rows in the DataFrame and add tags, urls, and tweets to the sets\n",
    "for item in data:\n",
    "\n",
    "    # Get the tags from the tweets\n",
    "    if 'entities' in item['includes']['tweets'][0] and 'hashtags' in item['includes']['tweets'][0]['entities']:\n",
    "        hashtags = item['includes']['tweets'][0]['entities']['hashtags']\n",
    "        for i in range(len(hashtags)):\n",
    "            if 'tag' in hashtags[i]:\n",
    "                tag = hashtags[i]['tag'].lower()\n",
    "                unique_tags.add(tag)\n",
    "\n",
    "    # Get the urls from the tweets\n",
    "    if 'entities' in item['includes']['tweets'][0] and 'urls' in item['includes']['tweets'][0]['entities']:\n",
    "        urls = item['includes']['tweets'][0]['entities']['urls']\n",
    "        for i in range(len(urls)):\n",
    "            if 'expanded_url' in urls[i]:\n",
    "                unique_urls.add(urls[i]['expanded_url'])\n",
    "\n",
    "    # Get the tweets \n",
    "    tweet = dict()\n",
    "    tweet[\"id\"] =  item['includes']['tweets'][0]['id']  \n",
    "    tweet[\"created_at\"] = item['includes']['tweets'][0]['created_at']  \n",
    "    tweet[\"author_id\"] = item['includes']['tweets'][0]['author_id']\n",
    "    if 'reply_count' in item['includes']['tweets'][0]['public_metrics']:\n",
    "        tweet[\"reply_count\"] = item['includes']['tweets'][0]['public_metrics']['reply_count']\n",
    "    else:\n",
    "        tweet[\"reply_count\"] = \"nan\"        \n",
    "    if 'referenced_tweets' in item['includes']['tweets'][0]:       \n",
    "        tweet[\"type\"] = item['includes']['tweets'][0]['referenced_tweets'][0]['type']   \n",
    "    else:\n",
    "        tweet[\"type\"] = \"nan\"   \n",
    "        \n",
    "    unique_tweets.add(frozenset(tweet.items()))\n",
    "    \n",
    "\n",
    "    # Get the users \n",
    "    user = dict()\n",
    "    user[\"id\"] = item['includes']['users'][0]['id']  \n",
    "    user[\"username\"] = item['includes']['users'][0]['username']  \n",
    "    if 'followers_count' in item['includes']['users'][0]['public_metrics']:\n",
    "        user[\"followers_count\"] = item['includes']['users'][0]['public_metrics']['followers_count']    \n",
    "    else:\n",
    "        user[\"followers_count\"] = \"nan\"\n",
    "        \n",
    "    unique_users.add(frozenset(user.items()))\n",
    "\n"
   ]
  },
  {
   "cell_type": "code",
   "execution_count": 8,
   "id": "b55828d8",
   "metadata": {},
   "outputs": [],
   "source": [
    "# Create a node for each tag\n",
    "for tag in unique_tags:\n",
    "    node = Node(\"Hashtag\", tag=tag)\n",
    "    graph.create(node)"
   ]
  },
  {
   "cell_type": "code",
   "execution_count": 9,
   "id": "f6137a51",
   "metadata": {},
   "outputs": [],
   "source": [
    "# Create a node for each url\n",
    "for url in unique_urls:\n",
    "    node = Node(\"Link\", url=url)\n",
    "    graph.create(node)"
   ]
  },
  {
   "cell_type": "code",
   "execution_count": 10,
   "id": "4abf58a0",
   "metadata": {},
   "outputs": [],
   "source": [
    "# Create a node for each tweet\n",
    "for tweet in unique_tweets:\n",
    "    # Convert the hashable tuple back to a dictionary\n",
    "    tweet_dict = dict(tweet)\n",
    "    node = Node(\"Tweet\", id=tweet_dict[\"id\"], created_at=tweet_dict[\"created_at\"], reply_count=tweet_dict[\"reply_count\"]\n",
    "                , type=tweet_dict[\"type\"], author_id=tweet_dict[\"author_id\"])\n",
    "    graph.create(node)"
   ]
  },
  {
   "cell_type": "code",
   "execution_count": 11,
   "id": "533d5e44",
   "metadata": {},
   "outputs": [],
   "source": [
    "# Create a node for each user\n",
    "constraint_created = False\n",
    "for user in unique_users:\n",
    "    # Convert the hashable tuple back to a dictionary\n",
    "    user_dict = dict(user)\n",
    "    node = Node(\"User\", id=user_dict[\"id\"], username=user_dict[\"username\"], followers_count=user_dict[\"followers_count\"])\n",
    "    if not constraint_created:\n",
    "        graph.run(\"CREATE CONSTRAINT constraint_user_id FOR (u:User) REQUIRE (u.id) IS UNIQUE\")\n",
    "        constraint_created = True\n",
    "    graph.merge(node, \"User\", \"id\")"
   ]
  },
  {
   "cell_type": "code",
   "execution_count": 12,
   "id": "dd5db2ab",
   "metadata": {},
   "outputs": [
    {
     "name": "stdout",
     "output_type": "stream",
     "text": [
      "tweet begin\n"
     ]
    },
    {
     "data": {
      "text/html": [
       "<table><tr><th>count(r)</th></tr><tr><td style=\"text-align:right\">8477</td></tr></table>"
      ],
      "text/plain": [
       " count(r) \n",
       "----------\n",
       "     8477 "
      ]
     },
     "execution_count": 12,
     "metadata": {},
     "output_type": "execute_result"
    }
   ],
   "source": [
    "print(\"tweet begin\")\n",
    "graph.run(\"MATCH (u: User),(t: Tweet) WHERE u.id = t.author_id and t.type<> 'retweeted' and t.type<> 'quoted' and t.type<> 'replied_to' MERGE (u)-[r:TWEETED]->(t) return count(r)\")"
   ]
  },
  {
   "cell_type": "code",
   "execution_count": 13,
   "id": "d78cb97d",
   "metadata": {},
   "outputs": [
    {
     "name": "stdout",
     "output_type": "stream",
     "text": [
      "retweet begin\n"
     ]
    },
    {
     "data": {
      "text/html": [
       "<table><tr><th>count(r)</th></tr><tr><td style=\"text-align:right\">22887</td></tr></table>"
      ],
      "text/plain": [
       " count(r) \n",
       "----------\n",
       "    22887 "
      ]
     },
     "execution_count": 13,
     "metadata": {},
     "output_type": "execute_result"
    }
   ],
   "source": [
    "print(\"retweet begin\")\n",
    "graph.run(\"MATCH (u: User),(t: Tweet) WHERE u.id = t.author_id and t.type = 'retweeted' MERGE (u)-[r:RETWEETED]->(t) return count(r)\")"
   ]
  },
  {
   "cell_type": "code",
   "execution_count": 14,
   "id": "ee21af9e",
   "metadata": {},
   "outputs": [
    {
     "name": "stdout",
     "output_type": "stream",
     "text": [
      "quote begin\n"
     ]
    },
    {
     "data": {
      "text/html": [
       "<table><tr><th>count(r)</th></tr><tr><td style=\"text-align:right\">749</td></tr></table>"
      ],
      "text/plain": [
       " count(r) \n",
       "----------\n",
       "      749 "
      ]
     },
     "execution_count": 14,
     "metadata": {},
     "output_type": "execute_result"
    }
   ],
   "source": [
    "print(\"quote begin\")\n",
    "graph.run(\"MATCH (u: User),(t: Tweet) WHERE u.id = t.author_id and t.type = 'quoted' MERGE (u)-[r:QUOTED]->(t) return count(r)\")"
   ]
  },
  {
   "cell_type": "code",
   "execution_count": 15,
   "id": "3bb71010",
   "metadata": {},
   "outputs": [
    {
     "name": "stdout",
     "output_type": "stream",
     "text": [
      "reply begin\n"
     ]
    },
    {
     "data": {
      "text/html": [
       "<table><tr><th>count(r)</th></tr><tr><td style=\"text-align:right\">1110</td></tr></table>"
      ],
      "text/plain": [
       " count(r) \n",
       "----------\n",
       "     1110 "
      ]
     },
     "execution_count": 15,
     "metadata": {},
     "output_type": "execute_result"
    }
   ],
   "source": [
    "print(\"reply begin\")\n",
    "graph.run(\"MATCH (u: User),(t: Tweet) WHERE u.id = t.author_id and t.type = 'replied_to' MERGE (u)-[r:REPLIED_TO]->(t) return count(r)\")"
   ]
  },
  {
   "cell_type": "code",
   "execution_count": 16,
   "id": "5f31569e",
   "metadata": {},
   "outputs": [],
   "source": [
    "\n",
    "# Iterate over the rows in the DataFrame and add tags, urls, and tweets to the sets\n",
    "for item in data:\n",
    "\n",
    "    # Get the tweets\n",
    "    tweet = {}\n",
    "    tweet[\"id\"] = item['includes']['tweets'][0]['id']  \n",
    "    tweet[\"author_id\"] = item['includes']['tweets'][0]['author_id']  \n",
    "\n",
    "    if all(tweet.values()) and not all(pd.isna(v) and  pd.isnull(v) and v != \"nan\" for v in tweet.values()):  # only add non-empty and non-nan tweets\n",
    "        if 'entities' in item['includes']['tweets'][0] and 'hashtags' in item['includes']['tweets'][0]['entities']:\n",
    "            hashtags = item['includes']['tweets'][0]['entities']['hashtags']\n",
    "            for i in range(len(hashtags)):\n",
    "                if 'tag' in hashtags[i]:\n",
    "                    tag = hashtags[i]['tag'].lower()\n",
    "                    tagRelTweet = graph.run(\"MATCH (t: Tweet),(h: Hashtag) WHERE h.tag = $tag1 and t.id = $tweetId MERGE (t)-[r:HAS_HASHTAG]->(h) return count(r)\",tag1 = tag, tweetId = tweet[\"id\"]).data()\n",
    "                    tagRelUser = graph.run(\"MATCH (u: User),(h: Hashtag) WHERE h.tag = $tag1 and u.id = $userId MERGE (u)-[r:USED_HASHTAG]->(h) return count(r)\",tag1 = tag, userId = tweet[\"author_id\"]).data()\n",
    "                     \n",
    "        if 'entities' in item['includes']['tweets'][0] and 'urls' in item['includes']['tweets'][0]['entities']:\n",
    "            urls = item['includes']['tweets'][0]['entities']['urls']\n",
    "            for i in range(len(urls)):\n",
    "                if 'expanded_url' in urls[i]:\n",
    "                    urlRelTweet = graph.run(\"MATCH (t: Tweet),(l: Link) WHERE l.url = $url1 and t.id = $tweetId MERGE (t)-[r:HAS_URL]->(l) return count(r)\",url1 = url, tweetId = tweet[\"id\"]).data()\n",
    "                    urlReluser = graph.run(\"MATCH (u: User),(l: Link) WHERE l.url = $url1 and u.id = $userId MERGE (u)-[r:USED_URL]->(l) return count(r)\",url1 = url, userId = tweet[\"author_id\"]).data()\n",
    "   \n",
    "    # Get the users \n",
    "    user = {}\n",
    "    user[\"id\"] = item['includes']['users'][0]['id'] \n",
    "\n",
    "    if all(user.values()) and not all(pd.isna(v) and  pd.isnull(v) and v != \"nan\" for v in user.values()):  # only add non-empty and non-nan tweets\n",
    "        \n",
    "         if 'entities' in item['data'] and 'mentions' in item['data']['entities']:\n",
    "            mentions = item['data']['entities']['mentions']\n",
    "            for i in range(len(mentions)):\n",
    "                if 'id' in mentions[i]:\n",
    "                    mentions_id = mentions[i]['id']\n",
    "                    mentions_username = mentions[i]['username']\n",
    "                    \n",
    "                    userExists = graph.run(\"MATCH (u:User {id: $id1}) return count(u.id)\",id1 = mentions_id).data()\n",
    "                    if(userExists[0][\"count(u.id)\"] == 0):\n",
    "                        node = Node(\"User\", id=mentions_id, username=mentions_username)\n",
    "                        graph.merge(node, \"User\", \"id\")   \n",
    "                    mentionRel = graph.run(\"MATCH (u1:User),(u2:User) WHERE u1.id = $user1Id and u2.id = $user2Id MERGE (u1)-[r:MENTIONS]->(u2) return count(r)\",user1Id = user[\"id\"], user2Id = mentions_id).data()    "
   ]
  },
  {
   "cell_type": "code",
   "execution_count": 17,
   "id": "8c10154a",
   "metadata": {},
   "outputs": [
    {
     "name": "stdout",
     "output_type": "stream",
     "text": [
      "Elapsed time: 4755.683638811111 seconds\n"
     ]
    }
   ],
   "source": [
    "end_time = time.time()  # set the end time\n",
    "elapsed_time = end_time - start_time  # calculate the elapsed time\n",
    "print(f\"Elapsed time: {elapsed_time} seconds\")"
   ]
  }
 ],
 "metadata": {
  "kernelspec": {
   "display_name": "Python 3 (ipykernel)",
   "language": "python",
   "name": "python3"
  },
  "language_info": {
   "codemirror_mode": {
    "name": "ipython",
    "version": 3
   },
   "file_extension": ".py",
   "mimetype": "text/x-python",
   "name": "python",
   "nbconvert_exporter": "python",
   "pygments_lexer": "ipython3",
   "version": "3.9.13"
  }
 },
 "nbformat": 4,
 "nbformat_minor": 5
}
