{
 "cells": [
  {
   "cell_type": "code",
   "execution_count": 1,
   "id": "9c498d1a",
   "metadata": {},
   "outputs": [],
   "source": [
    "#!pip install py2neo"
   ]
  },
  {
   "cell_type": "code",
   "execution_count": 2,
   "id": "a5455444",
   "metadata": {},
   "outputs": [],
   "source": [
    "import pandas as pd\n",
    "from py2neo import Graph, Node\n",
    "import time\n",
    "import bson\n",
    "from tabulate import tabulate"
   ]
  },
  {
   "cell_type": "code",
   "execution_count": 3,
   "id": "91ca906b",
   "metadata": {},
   "outputs": [],
   "source": [
    "start_time = time.time()"
   ]
  },
  {
   "cell_type": "code",
   "execution_count": 4,
   "id": "a64f4ab6",
   "metadata": {},
   "outputs": [],
   "source": [
    "bson_file = open('WDM1.bson', 'rb')\n",
    "data = bson.decode_all(bson_file.read())\n",
    "bson_file.close()"
   ]
  },
  {
   "cell_type": "code",
   "execution_count": 5,
   "id": "ff9a13fb",
   "metadata": {},
   "outputs": [],
   "source": [
    "graph = Graph(\"bolt://localhost:7687\", auth=(\"neo4j\", \"twitterdb\"))"
   ]
  },
  {
   "cell_type": "code",
   "execution_count": 6,
   "id": "d33eb3f8",
   "metadata": {},
   "outputs": [],
   "source": [
    "# Create sets to store unique tags, urls and tweets\n",
    "unique_tags = set()\n",
    "unique_urls = set()\n",
    "unique_tweets = set()\n",
    "unique_users = set()\n",
    "\n",
    "# Iterate over the rows in the DataFrame and add tags, urls, and tweets to the sets\n",
    "for item in data:\n",
    "\n",
    "    # Get the tags from the tweets\n",
    "    if 'entities' in item['includes']['tweets'][0] and 'hashtags' in item['includes']['tweets'][0]['entities']:\n",
    "        hashtags = item['includes']['tweets'][0]['entities']['hashtags']\n",
    "        for i in range(len(hashtags)):\n",
    "            if 'tag' in hashtags[i]:\n",
    "                tag = hashtags[i]['tag'].lower()\n",
    "                unique_tags.add(tag)\n",
    "\n",
    "    # Get the urls from the tweets\n",
    "    if 'entities' in item['includes']['tweets'][0] and 'urls' in item['includes']['tweets'][0]['entities']:\n",
    "        urls = item['includes']['tweets'][0]['entities']['urls']\n",
    "        for i in range(len(urls)):\n",
    "            if 'expanded_url' in urls[i]:\n",
    "                unique_urls.add(urls[i]['expanded_url'])\n",
    "\n",
    "    # Get the tweets \n",
    "    tweet = dict()\n",
    "    tweet[\"id\"] =  item['includes']['tweets'][0]['id']  \n",
    "    tweet[\"created_at\"] = item['includes']['tweets'][0]['created_at']  \n",
    "    tweet[\"author_id\"] = item['includes']['tweets'][0]['author_id']\n",
    "    if 'reply_count' in item['includes']['tweets'][0]['public_metrics']:\n",
    "        tweet[\"reply_count\"] = item['includes']['tweets'][0]['public_metrics']['reply_count']\n",
    "    else:\n",
    "        tweet[\"reply_count\"] = \"nan\"        \n",
    "    if 'referenced_tweets' in item['includes']['tweets'][0]:       \n",
    "        tweet[\"type\"] = item['includes']['tweets'][0]['referenced_tweets'][0]['type']   \n",
    "    else:\n",
    "        tweet[\"type\"] = \"nan\"   \n",
    "        \n",
    "    unique_tweets.add(frozenset(tweet.items()))\n",
    "    \n",
    "\n",
    "    # Get the users \n",
    "    user = dict()\n",
    "    user[\"id\"] = item['includes']['users'][0]['id']  \n",
    "    user[\"username\"] = item['includes']['users'][0]['username']  \n",
    "    if 'followers_count' in item['includes']['users'][0]['public_metrics']:\n",
    "        user[\"followers_count\"] = item['includes']['users'][0]['public_metrics']['followers_count']    \n",
    "    else:\n",
    "        user[\"followers_count\"] = \"nan\"\n",
    "        \n",
    "    unique_users.add(frozenset(user.items()))\n",
    "\n"
   ]
  },
  {
   "cell_type": "code",
   "execution_count": 7,
   "id": "b55828d8",
   "metadata": {},
   "outputs": [],
   "source": [
    "# Create a node for each tag\n",
    "for tag in unique_tags:\n",
    "    node = Node(\"Hashtag\", tag=tag)\n",
    "    graph.create(node)"
   ]
  },
  {
   "cell_type": "code",
   "execution_count": 8,
   "id": "f6137a51",
   "metadata": {},
   "outputs": [],
   "source": [
    "# Create a node for each url\n",
    "for url in unique_urls:\n",
    "    node = Node(\"Link\", url=url)\n",
    "    graph.create(node)"
   ]
  },
  {
   "cell_type": "code",
   "execution_count": 9,
   "id": "4abf58a0",
   "metadata": {},
   "outputs": [],
   "source": [
    "# Create a node for each tweet\n",
    "for tweet in unique_tweets:\n",
    "    # Convert the hashable tuple back to a dictionary\n",
    "    tweet_dict = dict(tweet)\n",
    "    node = Node(\"Tweet\", id=tweet_dict[\"id\"], created_at=tweet_dict[\"created_at\"], reply_count=tweet_dict[\"reply_count\"]\n",
    "                , type=tweet_dict[\"type\"], author_id=tweet_dict[\"author_id\"])\n",
    "    graph.create(node)"
   ]
  },
  {
   "cell_type": "code",
   "execution_count": 10,
   "id": "533d5e44",
   "metadata": {},
   "outputs": [],
   "source": [
    "# Create a node for each user\n",
    "#constraint_created = False\n",
    "for user in unique_users:\n",
    "    # Convert the hashable tuple back to a dictionary\n",
    "    user_dict = dict(user)\n",
    "    node = Node(\"User\", id=user_dict[\"id\"], username=user_dict[\"username\"], followers_count=user_dict[\"followers_count\"])\n",
    "    #if not constraint_created:\n",
    "        #graph.run(\"CREATE CONSTRAINT constraint_user_id FOR (u:User) REQUIRE (u.id) IS UNIQUE\")\n",
    "        #constraint_created = True\n",
    "    graph.merge(node, \"User\", \"id\")"
   ]
  },
  {
   "cell_type": "code",
   "execution_count": 11,
   "id": "dd5db2ab",
   "metadata": {},
   "outputs": [
    {
     "name": "stdout",
     "output_type": "stream",
     "text": [
      "tweet begin\n"
     ]
    },
    {
     "data": {
      "text/html": [
       "<table><tr><th>count(r)</th></tr><tr><td style=\"text-align:right\">8477</td></tr></table>"
      ],
      "text/plain": [
       " count(r) \n",
       "----------\n",
       "     8477 "
      ]
     },
     "execution_count": 11,
     "metadata": {},
     "output_type": "execute_result"
    }
   ],
   "source": [
    "print(\"tweet begin\")\n",
    "graph.run(\"MATCH (u: User),(t: Tweet) WHERE u.id = t.author_id and t.type<> 'retweeted' and t.type<> 'quoted' and t.type<> 'replied_to' MERGE (u)-[r:TWEETED]->(t) return count(r)\")"
   ]
  },
  {
   "cell_type": "code",
   "execution_count": 12,
   "id": "d78cb97d",
   "metadata": {},
   "outputs": [
    {
     "name": "stdout",
     "output_type": "stream",
     "text": [
      "retweet begin\n"
     ]
    },
    {
     "data": {
      "text/html": [
       "<table><tr><th>count(r)</th></tr><tr><td style=\"text-align:right\">22887</td></tr></table>"
      ],
      "text/plain": [
       " count(r) \n",
       "----------\n",
       "    22887 "
      ]
     },
     "execution_count": 12,
     "metadata": {},
     "output_type": "execute_result"
    }
   ],
   "source": [
    "print(\"retweet begin\")\n",
    "graph.run(\"MATCH (u: User),(t: Tweet) WHERE u.id = t.author_id and t.type = 'retweeted' MERGE (u)-[r:RETWEETED]->(t) return count(r)\")"
   ]
  },
  {
   "cell_type": "code",
   "execution_count": 13,
   "id": "ee21af9e",
   "metadata": {},
   "outputs": [
    {
     "name": "stdout",
     "output_type": "stream",
     "text": [
      "quote begin\n"
     ]
    },
    {
     "data": {
      "text/html": [
       "<table><tr><th>count(r)</th></tr><tr><td style=\"text-align:right\">749</td></tr></table>"
      ],
      "text/plain": [
       " count(r) \n",
       "----------\n",
       "      749 "
      ]
     },
     "execution_count": 13,
     "metadata": {},
     "output_type": "execute_result"
    }
   ],
   "source": [
    "print(\"quote begin\")\n",
    "graph.run(\"MATCH (u: User),(t: Tweet) WHERE u.id = t.author_id and t.type = 'quoted' MERGE (u)-[r:QUOTED]->(t) return count(r)\")"
   ]
  },
  {
   "cell_type": "code",
   "execution_count": 14,
   "id": "3bb71010",
   "metadata": {},
   "outputs": [
    {
     "name": "stdout",
     "output_type": "stream",
     "text": [
      "reply begin\n"
     ]
    },
    {
     "data": {
      "text/html": [
       "<table><tr><th>count(r)</th></tr><tr><td style=\"text-align:right\">1110</td></tr></table>"
      ],
      "text/plain": [
       " count(r) \n",
       "----------\n",
       "     1110 "
      ]
     },
     "execution_count": 14,
     "metadata": {},
     "output_type": "execute_result"
    }
   ],
   "source": [
    "print(\"reply begin\")\n",
    "graph.run(\"MATCH (u: User),(t: Tweet) WHERE u.id = t.author_id and t.type = 'replied_to' MERGE (u)-[r:REPLIED_TO]->(t) return count(r)\")"
   ]
  },
  {
   "cell_type": "code",
   "execution_count": 15,
   "id": "5f31569e",
   "metadata": {},
   "outputs": [],
   "source": [
    "\n",
    "# Iterate over the rows in the DataFrame and add tags, urls, and tweets to the sets\n",
    "for item in data:\n",
    "\n",
    "    # Get the tweets\n",
    "    tweet = {}\n",
    "    tweet[\"id\"] = item['includes']['tweets'][0]['id']  \n",
    "    tweet[\"author_id\"] = item['includes']['tweets'][0]['author_id']  \n",
    "\n",
    "    if all(tweet.values()) and not all(pd.isna(v) and  pd.isnull(v) and v != \"nan\" for v in tweet.values()):  # only add non-empty and non-nan tweets\n",
    "        if 'entities' in item['includes']['tweets'][0] and 'hashtags' in item['includes']['tweets'][0]['entities']:\n",
    "            hashtags = item['includes']['tweets'][0]['entities']['hashtags']\n",
    "            for i in range(len(hashtags)):\n",
    "                if 'tag' in hashtags[i]:\n",
    "                    tag = hashtags[i]['tag'].lower()\n",
    "                    tagRelTweet = graph.run(\"MATCH (t: Tweet),(h: Hashtag) WHERE h.tag = $tag1 and t.id = $tweetId MERGE (t)-[r:HAS_HASHTAG]->(h) return count(r)\",tag1 = tag, tweetId = tweet[\"id\"]).data()\n",
    "                    tagRelUser = graph.run(\"MATCH (u: User),(h: Hashtag) WHERE h.tag = $tag1 and u.id = $userId MERGE (u)-[r:USED_HASHTAG]->(h) return count(r)\",tag1 = tag, userId = tweet[\"author_id\"]).data()\n",
    "                     \n",
    "        if 'entities' in item['includes']['tweets'][0] and 'urls' in item['includes']['tweets'][0]['entities']:\n",
    "            urls = item['includes']['tweets'][0]['entities']['urls']\n",
    "            for i in range(len(urls)):\n",
    "                if 'expanded_url' in urls[i]:\n",
    "                    url = urls[i]['expanded_url']\n",
    "                    urlRelTweet = graph.run(\"MATCH (t: Tweet),(l: Link) WHERE l.url = $url1 and t.id = $tweetId MERGE (t)-[r:HAS_URL]->(l) return count(r)\",url1 = url, tweetId = tweet[\"id\"]).data()\n",
    "                    urlReluser = graph.run(\"MATCH (u: User),(l: Link) WHERE l.url = $url1 and u.id = $userId MERGE (u)-[r:USED_URL]->(l) return count(r)\",url1 = url, userId = tweet[\"author_id\"]).data()\n",
    "   \n",
    "    # Get the users \n",
    "    user = {}\n",
    "    user[\"id\"] = item['includes']['users'][0]['id'] \n",
    "\n",
    "    if all(user.values()) and not all(pd.isna(v) and  pd.isnull(v) and v != \"nan\" for v in user.values()):  # only add non-empty and non-nan tweets\n",
    "        \n",
    "         if 'entities' in item['data'] and 'mentions' in item['data']['entities']:\n",
    "            mentions = item['data']['entities']['mentions']\n",
    "            for i in range(len(mentions)):\n",
    "                if 'id' in mentions[i]:\n",
    "                    mentions_id = mentions[i]['id']\n",
    "                    mentions_username = mentions[i]['username']\n",
    "                    \n",
    "                    userExists = graph.run(\"MATCH (u:User {id: $id1}) return count(u.id)\",id1 = mentions_id).data()\n",
    "                    if(userExists[0][\"count(u.id)\"] == 0):\n",
    "                        node = Node(\"User\", id=mentions_id, username=mentions_username)\n",
    "                        graph.merge(node, \"User\", \"id\")   \n",
    "                    mentionRel = graph.run(\"MATCH (u1:User),(u2:User) WHERE u1.id = $user1Id and u2.id = $user2Id MERGE (u1)-[r:MENTIONS]->(u2) return count(r)\",user1Id = user[\"id\"], user2Id = mentions_id).data()    "
   ]
  },
  {
   "cell_type": "code",
   "execution_count": 16,
   "id": "8c10154a",
   "metadata": {},
   "outputs": [
    {
     "name": "stdout",
     "output_type": "stream",
     "text": [
      "Elapsed time: 7147.115245580673 seconds\n"
     ]
    }
   ],
   "source": [
    "end_time = time.time()  # set the end time\n",
    "elapsed_time = end_time - start_time  # calculate the elapsed time\n",
    "print(f\"Elapsed time: {elapsed_time} seconds\")"
   ]
  },
  {
   "cell_type": "markdown",
   "id": "3e1574b4",
   "metadata": {},
   "source": [
    "# Questions & Answers"
   ]
  },
  {
   "cell_type": "markdown",
   "id": "a2e0be96",
   "metadata": {},
   "source": [
    "### 1. Get the total number of tweets"
   ]
  },
  {
   "cell_type": "code",
   "execution_count": 17,
   "id": "f504d827",
   "metadata": {},
   "outputs": [
    {
     "name": "stdout",
     "output_type": "stream",
     "text": [
      " total_tweets \r\n",
      "--------------\r\n",
      "        33223 \r\n",
      "\n"
     ]
    }
   ],
   "source": [
    "query1 = graph.run(\"MATCH (t:Tweet) RETURN count(t) AS total_tweets\")\n",
    "print(query1)"
   ]
  },
  {
   "cell_type": "markdown",
   "id": "07dfeecc",
   "metadata": {},
   "source": [
    "### 3. Get the total number of hashtags (case insensitive)"
   ]
  },
  {
   "cell_type": "code",
   "execution_count": 18,
   "id": "d33da065",
   "metadata": {},
   "outputs": [
    {
     "name": "stdout",
     "output_type": "stream",
     "text": [
      " total_hashtags \r\n",
      "----------------\r\n",
      "          11404 \r\n",
      "\n"
     ]
    }
   ],
   "source": [
    "query3 = graph.run(\"MATCH (h:Hashtag) RETURN count(h) AS total_hashtags\")\n",
    "print(query3)"
   ]
  },
  {
   "cell_type": "markdown",
   "id": "e139d575",
   "metadata": {},
   "source": [
    "### 5. Get the 20 most popular URLs in descending order"
   ]
  },
  {
   "cell_type": "markdown",
   "id": "09581ce5",
   "metadata": {},
   "source": [
    "### 7. Get the followers count of each user"
   ]
  },
  {
   "cell_type": "markdown",
   "id": "49ce02e3",
   "metadata": {},
   "source": [
    "### 9. Get the number of tweets & retweets per hour"
   ]
  },
  {
   "cell_type": "code",
   "execution_count": 19,
   "id": "cacc07ff",
   "metadata": {},
   "outputs": [
    {
     "name": "stdout",
     "output_type": "stream",
     "text": [
      "|   hour |   total_tweets |   total_retweets |   total |\n",
      "|--------+----------------+------------------+---------|\n",
      "|      0 |            258 |              743 |    1001 |\n",
      "|      1 |            192 |              673 |     865 |\n",
      "|      2 |            193 |              588 |     781 |\n",
      "|      3 |            274 |              732 |    1006 |\n",
      "|      4 |            228 |              708 |     936 |\n",
      "|      5 |            276 |              729 |    1005 |\n",
      "|      6 |            303 |              838 |    1141 |\n",
      "|      7 |            304 |              807 |    1111 |\n",
      "|      8 |            362 |              924 |    1286 |\n",
      "|      9 |            291 |              943 |    1234 |\n",
      "|     10 |            356 |             1004 |    1360 |\n",
      "|     11 |            370 |             1138 |    1508 |\n",
      "|     12 |            434 |             1137 |    1571 |\n",
      "|     13 |            470 |             1214 |    1684 |\n",
      "|     14 |            550 |             1260 |    1810 |\n",
      "|     15 |            612 |             1371 |    1983 |\n",
      "|     16 |            538 |             1178 |    1716 |\n",
      "|     17 |            462 |             1192 |    1654 |\n",
      "|     18 |            425 |             1127 |    1552 |\n",
      "|     19 |            369 |             1059 |    1428 |\n",
      "|     20 |            335 |              916 |    1251 |\n",
      "|     21 |            349 |              932 |    1281 |\n",
      "|     22 |            236 |              833 |    1069 |\n",
      "|     23 |            290 |              841 |    1131 |\n"
     ]
    }
   ],
   "source": [
    "query9 = graph.run(\"\"\"\n",
    "MATCH (u:User)-[:TWEETED]->(t:Tweet)\n",
    "WHERE t.created_at IS NOT NULL\n",
    "WITH datetime(t.created_at).hour AS hour, count(t) AS total_tweets\n",
    "ORDER BY hour\n",
    "WITH hour, total_tweets\n",
    "\n",
    "MATCH (u:User)-[:RETWEETED]->(t:Tweet)\n",
    "WHERE t.created_at IS NOT NULL\n",
    "WITH hour, total_tweets, datetime(t.created_at).hour AS retweet_hour, count(t) AS total_retweets\n",
    "WHERE hour = retweet_hour\n",
    "RETURN hour, total_tweets, total_retweets, (total_tweets + total_retweets) AS total\n",
    "ORDER BY hour\n",
    "\"\"\")\n",
    "\n",
    "# convert the result to a list of lists\n",
    "table = []\n",
    "for record in query9:\n",
    "    table.append([record['hour'], record['total_tweets'], record['total_retweets'], record['total']])\n",
    "\n",
    "# print the table\n",
    "print(tabulate(table, headers=['hour', 'total_tweets', 'total_retweets', 'total'], tablefmt='orgtbl'))"
   ]
  },
  {
   "cell_type": "markdown",
   "id": "c1dbfbaf",
   "metadata": {},
   "source": [
    "### 11. Get the user with the most replies"
   ]
  },
  {
   "cell_type": "markdown",
   "id": "d4c94a09",
   "metadata": {},
   "source": [
    "### 13. Get the top-20 hashtags that co-occur with the hashtag that has been used the most"
   ]
  },
  {
   "cell_type": "markdown",
   "id": "4814419e",
   "metadata": {},
   "source": [
    "### 15. Get the most “important” user in the dataset (use Graph algorithms: Pagerank, Betweenness centrality, etc.). You will apply these algorithms in the mention network (which includes retweets)"
   ]
  },
  {
   "cell_type": "code",
   "execution_count": 22,
   "id": "b6765f0f",
   "metadata": {},
   "outputs": [],
   "source": [
    "query15_1 = graph.run(\"\"\"\n",
    "CALL gds.graph.project.cypher(\n",
    "    'mentionGraph3',\n",
    "    'MATCH (u:User) RETURN id(u) AS id',\n",
    "    'MATCH (u:User)-[e:MENTIONS]->(m:User) \n",
    "     RETURN id(u) AS source, e.weight AS weight, id(m) AS target'\n",
    ")\n",
    "\"\"\")"
   ]
  },
  {
   "cell_type": "markdown",
   "id": "77604085",
   "metadata": {},
   "source": [
    "### Pagerank"
   ]
  },
  {
   "cell_type": "code",
   "execution_count": 80,
   "id": "c1262c1a",
   "metadata": {},
   "outputs": [
    {
     "name": "stdout",
     "output_type": "stream",
     "text": [
      "maxIterations = 20, dampingFactor = 0.85\n",
      "\n",
      "Most important user: crazydollsnft\n",
      "Next 4 most important users:\n",
      "['cryptosanthoshK', 'CatherineAdenle', 'GirlsWhoCode', 'conscientious1o']\n",
      "\n",
      "\n",
      "maxIterations = 200, dampingFactor = 0.9\n",
      "\n",
      "Most important user: crazydollsnft\n",
      "Next 4 most important users:\n",
      "['CatherineAdenle', 'cryptosanthoshK', 'CareerEmporium', 'conscientious1o']\n"
     ]
    }
   ],
   "source": [
    "query15_2 = graph.run(\"\"\"\n",
    "CALL gds.pageRank.stream('mentionGraph3') \n",
    "YIELD nodeId, score\n",
    "RETURN gds.util.asNode(nodeId).username AS name, score\n",
    "ORDER BY score DESC LIMIT 5\n",
    "\"\"\")\n",
    "\n",
    "first_user = query15_2.next()['name']\n",
    "\n",
    "print(\"maxIterations = 20, dampingFactor = 0.85\\n\")\n",
    "print(f\"Most important user: {first_user}\")\n",
    "print(\"Next 4 most important users:\")\n",
    "print([usr['name'] for usr in query15_2])\n",
    " \n",
    "    \n",
    "# different pageRank parameters    \n",
    "query15_3 = graph.run(\"\"\"\n",
    "CALL gds.pageRank.stream('mentionGraph3', {\n",
    "  maxIterations: 200,\n",
    "  dampingFactor: 0.9\n",
    "})\n",
    "YIELD nodeId, score\n",
    "RETURN gds.util.asNode(nodeId).username AS name, score\n",
    "ORDER BY score DESC LIMIT 5\n",
    "\"\"\")\n",
    "\n",
    "first_user = query15_3.next()['name']\n",
    "\n",
    "print(\"\\n\\nmaxIterations = 200, dampingFactor = 0.9\\n\")\n",
    "print(f\"Most important user: {first_user}\")\n",
    "print(\"Next 4 most important users:\")\n",
    "print([usr['name'] for usr in query15_3])  \n"
   ]
  },
  {
   "cell_type": "markdown",
   "id": "c7b65a18",
   "metadata": {},
   "source": [
    "### Betweenness Centrality"
   ]
  },
  {
   "cell_type": "code",
   "execution_count": 87,
   "id": "a7b80106",
   "metadata": {},
   "outputs": [
    {
     "name": "stdout",
     "output_type": "stream",
     "text": [
      "Most important user: Khulood_Almani\n",
      "Next 4 most important users:\n",
      "['Eli_Krumova', '1OFFGINGER', 'EllySpaceSongs', 'gayarush']\n"
     ]
    }
   ],
   "source": [
    "query = graph.run(\"\"\"\n",
    "CALL gds.betweenness.stream('mentionGraph3')\n",
    "YIELD nodeId, score\n",
    "RETURN gds.util.asNode(nodeId).username AS name, score\n",
    "ORDER BY score DESC LIMIT 5\n",
    "\"\"\")\n",
    "\n",
    "first_user = query.next()['name']\n",
    "print(f\"Most important user: {first_user}\")\n",
    "print(\"Next 4 most important users:\")\n",
    "print([usr['name'] for usr in query])  "
   ]
  },
  {
   "cell_type": "markdown",
   "id": "f5dd921e",
   "metadata": {},
   "source": [
    "### Degree Centrality"
   ]
  },
  {
   "cell_type": "code",
   "execution_count": 89,
   "id": "4eb3c6a9",
   "metadata": {},
   "outputs": [
    {
     "name": "stdout",
     "output_type": "stream",
     "text": [
      "Most important user: PythonRoboto\n",
      "Next 4 most important users:\n",
      "['_EllaBot', 'Eli_Krumova', '_EmmaBot', 'BoredomBot']\n"
     ]
    }
   ],
   "source": [
    "query = graph.run(\"\"\"\n",
    "CALL gds.degree.stream('mentionGraph3')\n",
    "YIELD nodeId, score\n",
    "RETURN gds.util.asNode(nodeId).username AS name, score AS followers\n",
    "ORDER BY followers DESC LIMIT 5\n",
    "\"\"\")\n",
    "\n",
    "first_user = query.next()['name']\n",
    "print(f\"Most important user: {first_user}\")\n",
    "print(\"Next 4 most important users:\")\n",
    "print([usr['name'] for usr in query])  "
   ]
  },
  {
   "cell_type": "markdown",
   "id": "0d311f07",
   "metadata": {},
   "source": [
    "### 17. For the 5th most important user, get the list of hashtags and URLs that have been posted (if no hashtags or URLs - check another user e.g. 6th, 7th , etc..)"
   ]
  },
  {
   "cell_type": "markdown",
   "id": "777264aa",
   "metadata": {},
   "source": [
    "### 19. Get the user communities that have been created based on the users’ interactions and visualise them (Louvain algorithm)"
   ]
  }
 ],
 "metadata": {
  "kernelspec": {
   "display_name": "Python 3 (ipykernel)",
   "language": "python",
   "name": "python3"
  },
  "language_info": {
   "codemirror_mode": {
    "name": "ipython",
    "version": 3
   },
   "file_extension": ".py",
   "mimetype": "text/x-python",
   "name": "python",
   "nbconvert_exporter": "python",
   "pygments_lexer": "ipython3",
   "version": "3.9.13"
  }
 },
 "nbformat": 4,
 "nbformat_minor": 5
}
